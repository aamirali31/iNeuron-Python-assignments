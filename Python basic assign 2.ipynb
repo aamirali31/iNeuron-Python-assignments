{
 "cells": [
  {
   "attachments": {},
   "cell_type": "markdown",
   "id": "1b19bea4",
   "metadata": {},
   "source": [
    "Que 1. What are the two values of the boolean data type? How do you write them  \n",
    "Ans:-  Two values are True and False, capital T and F with the word of letter in lowercase.\n",
    " \n",
    " \n",
    "Que 2. What are the three different types of boolean operators?  \n",
    "Ans:-  Three different boolean operator types are And, Or,& Not.\n",
    "\n",
    "\n",
    "Que 3. Make a list of each Boolean operator's truth tables (i.e. every possible combination of Boolean values for the operator and what it evaluate ).  \n",
    "Ans:- For AND operator  \n",
    "  \n",
    "  False$\\;\\;\\;\\;$False$\\;\\;\\;\\;\\;\\;\\;$False  \n",
    "  False$\\;\\;\\;\\;$True$\\;\\;\\;\\;\\;\\;\\;$False  \n",
    "  True$\\;\\;\\;\\;$False$\\;\\;\\;\\;\\;\\;\\;$False  \n",
    "  True$\\;\\;\\;\\;$True$\\;\\;\\;\\;\\;\\;\\;$True  \n",
    "  \n",
    "  For OR operator  \n",
    "    \n",
    "   False$\\;\\;\\;\\;$False$\\;\\;\\;\\;\\;\\;\\;$False  \n",
    "   False$\\;\\;\\;\\;$True$\\;\\;\\;\\;\\;\\;\\;$True  \n",
    "   True$\\;\\;\\;\\;$False$\\;\\;\\;\\;\\;\\;\\;$True  \n",
    "   True$\\;\\;\\;\\;$True$\\;\\;\\;\\;\\;\\;\\;$True  \n",
    "     \n",
    "  For NOT operator  \n",
    "    \n",
    "   False$\\;\\;\\;\\;\\;$True  \n",
    "   True$\\;\\;\\;\\;\\;$False\n",
    "                         \n",
    "                         \n",
    "Que 4. What are the values of the following expression?  \n",
    "Ans:-  (5 > 4) and (3 == 5)$\\;\\;\\;$FALSE  \n",
    "$\\;\\;\\;$not (5 > 4)$\\;\\;\\;$FALSE  \n",
    "  (5 > 4) or (3 == 5)$\\;\\;\\;$TRUE  \n",
    "  not ((5 > 4) or (3 == 5))$\\;\\;\\;$FALSE  \n",
    "  (True and True) and (True == False)$\\;\\;\\;$FALSE  \n",
    "  (not False) or (not True)$\\;\\;\\;$TRUE\n",
    " \n",
    " \n",
    "Que 5. What are the six comparison operator?  \n",
    "Ans:-  ==, !=, >, <, >=, <=, these are the six comparsion operartor.\n",
    "\n",
    "\n",
    "Que 6. How do you tell the difference between the equal to and assignment operators?Describe a condition and when you would use one.  \n",
    "Ans:- '=' is the assignment operator and is used to assign the value on the right side to the variable on the left side and thr '==' is the comparison operator and is used to check whether the two expressions on both sides are equal or not.\n",
    "\n",
    "\n",
    "Que 7.  Identify the three blocks in this code  \n",
    "Ans:-  The three blocks are everything inside thr if statement and the lines print('bacon') and print('ham')\n",
    "\n"
   ]
  },
  {
   "cell_type": "code",
   "execution_count": null,
   "id": "aaa07dfa",
   "metadata": {},
   "outputs": [],
   "source": [
    "print('eggs')\n",
    "if spam > 5:\n",
    "    print('bacon')\n",
    "else:\n",
    "    print('ham')\n",
    "print('spam')"
   ]
  },
  {
   "cell_type": "markdown",
   "id": "b8248cb7",
   "metadata": {},
   "source": [
    "Que 8. Write a code that prints Hello if 1 is stored in spam, printa Howdy if 2 is stored in spam, and prints Greeting! if anything else is stored in spam."
   ]
  },
  {
   "cell_type": "code",
   "execution_count": 3,
   "id": "acdc0af4",
   "metadata": {},
   "outputs": [
    {
     "name": "stdout",
     "output_type": "stream",
     "text": [
      "Input value of spam\n",
      "4\n",
      "Greetings!\n"
     ]
    }
   ],
   "source": [
    "print('Input value of spam')\n",
    "spam = int(input())\n",
    "if spam == 1:\n",
    "    print('Hello')\n",
    "elif spam == 2:\n",
    "    print('Howdy')\n",
    "else:\n",
    "    print('Greetings!')"
   ]
  },
  {
   "cell_type": "markdown",
   "id": "d6d94fde",
   "metadata": {},
   "source": [
    "Que 9. If your programme is stuck in an endless loop, what key you'll press?  \n",
    "Ans:- Ctrl-C stop a programme stuck in an infinite loop.\n",
    "\n",
    "\n",
    "Que 10. How can you tell the difference between break and continue?  \n",
    "Ans:- The break statement stops the continuation of the loop, whereas the continue statement does not stop the continuation of the loop and it stops the current.\n",
    "\n",
    "\n",
    "Que 11. In a for loop, what is the diffrence between range(10), range(0, 10), and range(0,10,1)?  \n",
    "Ans:- In range(10) call range from 0 upto 9(exclude 10), where in range(0,10) clearly tells that the loop to start at 0, and in range (0,10,1) tells that the loop to increment the value by 1 on each iteration.\n",
    "\n"
   ]
  },
  {
   "cell_type": "markdown",
   "id": "cd7c39ef",
   "metadata": {},
   "source": [
    "Que 12. Write a short program that prints the numbers 1 to 10 using for loop. Then write an equivalent program that prints the numbers 1 to 10 using while loop."
   ]
  },
  {
   "cell_type": "code",
   "execution_count": null,
   "id": "c009d961",
   "metadata": {},
   "outputs": [],
   "source": [
    "for i in range(1,11):\n",
    "    print(i)\n",
    "    \n",
    "i = 1\n",
    "while i<= 10:\n",
    "    print(i)\n",
    "    i += 1"
   ]
  },
  {
   "cell_type": "markdown",
   "id": "9483ea57",
   "metadata": {},
   "source": [
    "Que 13. If you had a function named bacon() inside a module named spam, how would you call it after importing spam?  \n",
    "Ans:- The function can be called with spam.bacon()"
   ]
  }
 ],
 "metadata": {
  "kernelspec": {
   "display_name": "Python 3 (ipykernel)",
   "language": "python",
   "name": "python3"
  },
  "language_info": {
   "codemirror_mode": {
    "name": "ipython",
    "version": 3
   },
   "file_extension": ".py",
   "mimetype": "text/x-python",
   "name": "python",
   "nbconvert_exporter": "python",
   "pygments_lexer": "ipython3",
   "version": "3.9.7"
  }
 },
 "nbformat": 4,
 "nbformat_minor": 5
}
