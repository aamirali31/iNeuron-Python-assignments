{
 "cells": [
  {
   "cell_type": "markdown",
   "id": "d489df52",
   "metadata": {},
   "source": [
    "1. In the below elements which of them are values or an expression? eg:- values can be integer or string and expressions will be mathematical operators."
   ]
  },
  {
   "cell_type": "code",
   "execution_count": null,
   "id": "20c96063",
   "metadata": {},
   "outputs": [],
   "source": [
    "*      ----> expression \n",
    "\n",
    "'hello'----> value\n",
    "\n",
    "-87.8  ----> value\n",
    "\n",
    "-      ----> expression \n",
    "\n",
    "/      ----> expression\n",
    "\n",
    "+      ----> expression\n",
    "\n",
    "6      ----> value"
   ]
  },
  {
   "cell_type": "markdown",
   "id": "b5a91295",
   "metadata": {},
   "source": [
    "2. What is the difference between string and variable?  \n",
    "Ans:- Strings are surrounded by either single quotation mark or a double quotation marks.  \n",
    "        \n",
    "        for eg. 'python' is same as \"python\".  \n",
    "      And variables are nothing but reserved memory locations to store value, this means that when you create a variable you reserve some space in memory. Based on the datatypes interpreter decides allocates memory and decides what can be stored in the reserved memory.  \n",
    "          \n",
    "          for eg. name = 'sudh' #here name is a variable and we decalared as a string."
   ]
  },
  {
   "cell_type": "markdown",
   "id": "586c64d1",
   "metadata": {},
   "source": [
    "3. Describe three different data types.  \n",
    "Ans:- Integer- integer(int) which is numeric datatype are the whole numbers,positive or negative numbers without decimal of unlimited length. For eg. x = 2\n",
    "                          y = 26489  \n",
    "                            \n",
    "   Float- float datatype is a number which can be positive or negative numbers containing one or more decimal.\n",
    "                  For eg. x = 2.55  \n",
    "                    \n",
    "   Tuple- tuples which is a squence datatype(4 in buit datatypes in python) are used to store multiple items in a single variable. Tuples are denoted with round brackets(). For eg. tuple = (\"Mercedes\", \"BMW\", \"Audi\")"
   ]
  },
  {
   "cell_type": "markdown",
   "id": "84310faa",
   "metadata": {},
   "source": [
    "4. What is an expression made up of? What do all expressions do?  \n",
    "Ans:-  An expression is made up of mathematical operator,oprands,containers and values for eg. x = 10 + 2.5 an expression is evaluated as per the precedence of ots operators."
   ]
  },
  {
   "cell_type": "markdown",
   "id": "58915ace",
   "metadata": {},
   "source": [
    "5. This assignment statements, like spam = 10. What is the difference between an expression and a statement?    \n",
    "Ans:- As we know expression is made up of values, operator and statement is just a command that a python interpreter excutes like a print.  \n",
    "for eg. x = 5 + 20 ---- expression  \n",
    "        print(x)   ---- command"
   ]
  },
  {
   "cell_type": "markdown",
   "id": "da81328f",
   "metadata": {},
   "source": [
    "6. After running the following code, what does the variable bacon contain?   \n",
    "bacon = 22  \n",
    "bacon + 1    \n",
    "\n",
    "Ans:- it gives us 23"
   ]
  },
  {
   "cell_type": "code",
   "execution_count": 2,
   "id": "2823ff5a",
   "metadata": {},
   "outputs": [],
   "source": [
    "bacon = 22"
   ]
  },
  {
   "cell_type": "code",
   "execution_count": 3,
   "id": "105ba6af",
   "metadata": {},
   "outputs": [
    {
     "data": {
      "text/plain": [
       "23"
      ]
     },
     "execution_count": 3,
     "metadata": {},
     "output_type": "execute_result"
    }
   ],
   "source": [
    "bacon +1"
   ]
  },
  {
   "cell_type": "markdown",
   "id": "553835db",
   "metadata": {},
   "source": [
    "7. What should the values of the following two terms be?  \n",
    "'spam' + 'spamspam'  \n",
    "'spam' * 3    \n",
    "\n",
    "Ans:-Both the expressions gives the same output."
   ]
  },
  {
   "cell_type": "code",
   "execution_count": 4,
   "id": "e256b92c",
   "metadata": {},
   "outputs": [
    {
     "data": {
      "text/plain": [
       "'spamspamspam'"
      ]
     },
     "execution_count": 4,
     "metadata": {},
     "output_type": "execute_result"
    }
   ],
   "source": [
    "'spam' + 'spamspam'"
   ]
  },
  {
   "cell_type": "code",
   "execution_count": 5,
   "id": "50c3b2ab",
   "metadata": {},
   "outputs": [
    {
     "data": {
      "text/plain": [
       "'spamspamspam'"
      ]
     },
     "execution_count": 5,
     "metadata": {},
     "output_type": "execute_result"
    }
   ],
   "source": [
    "'spam' *3"
   ]
  },
  {
   "cell_type": "markdown",
   "id": "41bebb2b",
   "metadata": {},
   "source": [
    "8. Why is eggs a valid variable name while 100 is invalid?  \n",
    "Ans:- Because variable names can not starts with a number."
   ]
  },
  {
   "cell_type": "markdown",
   "id": "79b63955",
   "metadata": {},
   "source": [
    "9. What three functions can be used to get the integer, floating-point number, or string version of a value?  \n",
    "Ans:- For integer int(), for string str(), for floating-point number float() "
   ]
  },
  {
   "cell_type": "markdown",
   "id": "b8745bff",
   "metadata": {},
   "source": [
    "10. Why does this expression cause an error? How can you fix it?  \n",
    "'I have eaten ' + 99 + ' burritos.'  \n",
    "  \n",
    "  Ans:- Because 99 is a integer so it can not be concatenate with strings, if we have to concatenate it we need to typecast. the correct way is 'I have eaten ' + str(99) + ' burritos.'"
   ]
  }
 ],
 "metadata": {
  "kernelspec": {
   "display_name": "Python 3 (ipykernel)",
   "language": "python",
   "name": "python3"
  },
  "language_info": {
   "codemirror_mode": {
    "name": "ipython",
    "version": 3
   },
   "file_extension": ".py",
   "mimetype": "text/x-python",
   "name": "python",
   "nbconvert_exporter": "python",
   "pygments_lexer": "ipython3",
   "version": "3.9.7"
  }
 },
 "nbformat": 4,
 "nbformat_minor": 5
}
